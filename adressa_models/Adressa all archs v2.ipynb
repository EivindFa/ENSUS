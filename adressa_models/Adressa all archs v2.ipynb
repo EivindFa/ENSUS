{
 "cells": [
  {
   "cell_type": "code",
   "execution_count": 1,
   "id": "4c8dbf84",
   "metadata": {},
   "outputs": [],
   "source": [
    "import json\n",
    "import os\n",
    "import pandas as pd\n",
    "import numpy as np\n",
    "#import ExplicitMF as mf\n",
    "\n",
    "from sklearn.feature_extraction.text import TfidfVectorizer\n",
    "\n",
    "from sklearn.metrics.pairwise import linear_kernel\n",
    "\n",
    "import matplotlib.pyplot as plt\n",
    "import seaborn as sns\n",
    "import random\n",
    "from sklearn.utils import shuffle\n",
    "import tensorflow as tf\n",
    "from tqdm import tqdm\n",
    "import re\n",
    "import scipy\n",
    "#from tensorflow import keras\n",
    "from tensorflow.keras.layers import Input,Flatten, Embedding, Reshape, Multiply, Dropout, Dense, Concatenate, GlobalAveragePooling1D\n",
    "from tensorflow.keras.layers import Layer, SpatialDropout1D, GlobalMaxPooling1D, Bidirectional, LSTM\n",
    "from tensorflow.keras.layers import Dot, TimeDistributed, BatchNormalization, multiply\n",
    "from tensorflow.keras import initializers, regularizers, constraints\n",
    "from tensorflow.keras import Model\n",
    "from tensorflow.keras.optimizers import Adam\n",
    "from sklearn.preprocessing import LabelEncoder\n",
    "import collections\n",
    "from collections import Counter\n",
    "import math"
   ]
  },
  {
   "cell_type": "code",
   "execution_count": 28,
   "id": "316ee393",
   "metadata": {},
   "outputs": [],
   "source": [
    "# the methods traverse_dir(), load_data() and the dataset are provided by supervisor Peng Liu\n",
    "\n",
    "def traverse_dir(rootDir, level=2):\n",
    "    \n",
    "    dir_list = []\n",
    "    print(\">>>\",rootDir)\n",
    "    for lists in os.listdir(rootDir):\n",
    "        path = os.path.join(rootDir, lists)\n",
    "        if level == 1:\n",
    "            dir_list.append(path)\n",
    "        else:\n",
    "            if os.path.isdir(path):\n",
    "                temp_list = traverse_dir(path, level)\n",
    "                dir_list.extend(temp_list)\n",
    "            else:\n",
    "                dir_list.append(path)\n",
    "    return dir_list\n",
    "\n",
    "def load_data(rootpath, flist):\n",
    "    \"\"\"\n",
    "        Load events from files and convert to dataframe.\n",
    "    \"\"\"\n",
    "    map_lst = []\n",
    "    for fname in flist:\n",
    "        #fname = os.path.join(rootpath, f)\n",
    "        for line in open(fname):\n",
    "            obj = json.loads(line.strip())\n",
    "            if not obj is None:\n",
    "                map_lst.append(obj)\n",
    "    return pd.DataFrame(map_lst)\n"
   ]
  },
  {
   "cell_type": "code",
   "execution_count": 29,
   "id": "0a0fa9a1",
   "metadata": {},
   "outputs": [
    {
     "name": "stdout",
     "output_type": "stream",
     "text": [
      ">>> ./active1000/\n"
     ]
    }
   ],
   "source": [
    "fpath=\"./active1000/\"\n",
    "flist = traverse_dir(fpath)\n",
    "df = load_data(fpath, flist)"
   ]
  },
  {
   "cell_type": "markdown",
   "id": "9111d442",
   "metadata": {},
   "source": [
    "# 1. Preprocessing"
   ]
  },
  {
   "cell_type": "code",
   "execution_count": 30,
   "id": "0f369b25",
   "metadata": {},
   "outputs": [
    {
     "data": {
      "text/html": [
       "<div>\n",
       "<style scoped>\n",
       "    .dataframe tbody tr th:only-of-type {\n",
       "        vertical-align: middle;\n",
       "    }\n",
       "\n",
       "    .dataframe tbody tr th {\n",
       "        vertical-align: top;\n",
       "    }\n",
       "\n",
       "    .dataframe thead th {\n",
       "        text-align: right;\n",
       "    }\n",
       "</style>\n",
       "<table border=\"1\" class=\"dataframe\">\n",
       "  <thead>\n",
       "    <tr style=\"text-align: right;\">\n",
       "      <th></th>\n",
       "      <th>eventId</th>\n",
       "      <th>category</th>\n",
       "      <th>activeTime</th>\n",
       "      <th>title</th>\n",
       "      <th>url</th>\n",
       "      <th>userId</th>\n",
       "      <th>publishtime</th>\n",
       "      <th>time</th>\n",
       "      <th>documentId</th>\n",
       "    </tr>\n",
       "  </thead>\n",
       "  <tbody>\n",
       "    <tr>\n",
       "      <th>0</th>\n",
       "      <td>1452187460</td>\n",
       "      <td>None</td>\n",
       "      <td>NaN</td>\n",
       "      <td>None</td>\n",
       "      <td>http://adressa.no</td>\n",
       "      <td>cx:i6cniurf675smd1y:hp3ao3akzuqt</td>\n",
       "      <td>None</td>\n",
       "      <td>1490050819</td>\n",
       "      <td>None</td>\n",
       "    </tr>\n",
       "  </tbody>\n",
       "</table>\n",
       "</div>"
      ],
      "text/plain": [
       "      eventId category  activeTime title                url  \\\n",
       "0  1452187460     None         NaN  None  http://adressa.no   \n",
       "\n",
       "                             userId publishtime        time documentId  \n",
       "0  cx:i6cniurf675smd1y:hp3ao3akzuqt        None  1490050819       None  "
      ]
     },
     "execution_count": 30,
     "metadata": {},
     "output_type": "execute_result"
    }
   ],
   "source": [
    "df.head(1)"
   ]
  },
  {
   "cell_type": "code",
   "execution_count": 32,
   "id": "eb649bf7",
   "metadata": {},
   "outputs": [
    {
     "name": "stdout",
     "output_type": "stream",
     "text": [
      "5000\n",
      "5000\n",
      "4726\n"
     ]
    }
   ],
   "source": [
    "print(len(df))\n",
    "df = df[df[\"documentId\"].notna()][:5000]\n",
    "print(len(df))\n",
    "df = df[df.groupby('userId').userId.transform('count')>2].copy()\n",
    "print(len(df))\n",
    "user_enc = LabelEncoder()\n",
    "article_enc = LabelEncoder()\n",
    "df[\"user_id\"] = user_enc.fit_transform(df[\"userId\"].values)\n",
    "df[\"article_id\"] = article_enc.fit_transform(df[\"documentId\"].values)"
   ]
  },
  {
   "cell_type": "code",
   "execution_count": 33,
   "id": "2168fcf4",
   "metadata": {},
   "outputs": [],
   "source": [
    "def take_one_category(text):\n",
    "    \"\"\"\n",
    "    Convert hyphen to underline for the subcategories. So that Tfidf works correctly\n",
    "    \"\"\"\n",
    "    try:\n",
    "        cat = text.split(\"|\")\n",
    "        if len(cat) > 1:\n",
    "            return cat[1]\n",
    "        return cat\n",
    "    except:\n",
    "        return \"null\"\n",
    "#behaviors = clean_title(behaviors)\n",
    "df[\"category_cleaned\"] = df[\"category\"].apply(func = take_one_category)"
   ]
  },
  {
   "cell_type": "code",
   "execution_count": 34,
   "id": "96f986d7",
   "metadata": {},
   "outputs": [],
   "source": [
    "category_enc = LabelEncoder()\n",
    "df[\"category_int\"] = category_enc.fit_transform(df[\"category_cleaned\"].values)\n"
   ]
  },
  {
   "cell_type": "code",
   "execution_count": 35,
   "id": "ccc5ad94",
   "metadata": {},
   "outputs": [
    {
     "name": "stderr",
     "output_type": "stream",
     "text": [
      "100%|██████████| 598/598 [00:00<00:00, 1894.88it/s]\n"
     ]
    }
   ],
   "source": [
    "def get_userid_to_profile(df):\n",
    "    users = df[\"user_id\"].unique()\n",
    "    userid_to_profile = collections.defaultdict(list)\n",
    "    for user_id in tqdm(users):\n",
    "        user_subcat = df[df[\"user_id\"] == user_id][\"category_int\"].values.tolist()\n",
    "        counter = Counter(user_subcat)\n",
    "        s = sorted(user_subcat, key=lambda x: (counter[x], x), reverse=True)\n",
    "        final_subcategories = []\n",
    "        for elem in s:\n",
    "            if elem not in final_subcategories:\n",
    "                final_subcategories.append(elem)\n",
    "        while len(final_subcategories) < 6:\n",
    "            final_subcategories.append(0)\n",
    "        userid_to_profile[user_id] = final_subcategories[:6]\n",
    "    return userid_to_profile\n",
    "userid_to_profile = get_userid_to_profile(df)"
   ]
  },
  {
   "cell_type": "markdown",
   "id": "c304e110",
   "metadata": {},
   "source": [
    "# 2. Train test split"
   ]
  },
  {
   "cell_type": "code",
   "execution_count": 36,
   "id": "c3d3d501",
   "metadata": {},
   "outputs": [],
   "source": [
    "SEED = 42\n",
    "SAMPLE_SIZE = 99\n",
    "NUM_NEGATIVES = 4\n",
    "ALL_ARTICLE_IDS = df[\"article_id\"].unique()\n",
    "NUM_ARTICLES = len(ALL_ARTICLE_IDS)\n",
    "ALL_USERS = df[\"user_id\"].unique()\n",
    "NUM_USERS = len(ALL_USERS)\n",
    "NUM_CATEGORIES = len(df[\"category_int\"].unique())\n",
    "DIMS=20\n",
    "\n",
    "### Global dicts ###\n",
    "    #userid_to_profile\n",
    "    #userid_to_click_history"
   ]
  },
  {
   "cell_type": "code",
   "execution_count": 37,
   "id": "af33603c",
   "metadata": {},
   "outputs": [
    {
     "name": "stderr",
     "output_type": "stream",
     "text": [
      "/Users/eivindfalun/opt/anaconda3/envs/shapRs/lib/python3.7/site-packages/ipykernel_launcher.py:7: SettingWithCopyWarning: \n",
      "A value is trying to be set on a copy of a slice from a DataFrame.\n",
      "Try using .loc[row_indexer,col_indexer] = value instead\n",
      "\n",
      "See the caveats in the documentation: https://pandas.pydata.org/pandas-docs/stable/user_guide/indexing.html#returning-a-view-versus-a-copy\n",
      "  import sys\n"
     ]
    }
   ],
   "source": [
    "df[\"rank_latest\"] = df.groupby([\"user_id\"])[\"time\"].rank(method=\"first\", ascending=False)\n",
    "\n",
    "train_true = df[df['rank_latest'] != 1]\n",
    "test_true = df[df['rank_latest'] == 1]\n",
    "\n",
    "rating = [1 for i in range(len(train_true))]\n",
    "train_true[\"label\"] = rating\n",
    "\n",
    "train = train_true[[\"user_id\", \"article_id\", \"label\"]]\n",
    "test = test_true[[\"user_id\", \"article_id\"]]"
   ]
  },
  {
   "cell_type": "code",
   "execution_count": 38,
   "id": "057762e1",
   "metadata": {},
   "outputs": [
    {
     "name": "stderr",
     "output_type": "stream",
     "text": [
      "100%|██████████| 598/598 [00:00<00:00, 1801.58it/s]\n"
     ]
    }
   ],
   "source": [
    "def get_userid_to_click_history(df):\n",
    "    userid_to_article_history = {}\n",
    "    for user_id in tqdm(df[\"user_id\"].unique()):\n",
    "        click_history = df[df[\"user_id\"] == user_id][\"article_id\"].values\n",
    "        if len(click_history) < 10:\n",
    "            while len(click_history) < 10:\n",
    "                click_history = np.append(click_history, 0)\n",
    "        if len(click_history) > 10:\n",
    "            click_history = click_history[:10]\n",
    "        userid_to_article_history[user_id] = click_history\n",
    "    return userid_to_article_history\n",
    "userid_to_click_history = get_userid_to_click_history(train_true)"
   ]
  },
  {
   "cell_type": "code",
   "execution_count": 39,
   "id": "bff91a99",
   "metadata": {},
   "outputs": [
    {
     "data": {
      "text/html": [
       "<div>\n",
       "<style scoped>\n",
       "    .dataframe tbody tr th:only-of-type {\n",
       "        vertical-align: middle;\n",
       "    }\n",
       "\n",
       "    .dataframe tbody tr th {\n",
       "        vertical-align: top;\n",
       "    }\n",
       "\n",
       "    .dataframe thead th {\n",
       "        text-align: right;\n",
       "    }\n",
       "</style>\n",
       "<table border=\"1\" class=\"dataframe\">\n",
       "  <thead>\n",
       "    <tr style=\"text-align: right;\">\n",
       "      <th></th>\n",
       "      <th>eventId</th>\n",
       "      <th>category</th>\n",
       "      <th>activeTime</th>\n",
       "      <th>title</th>\n",
       "      <th>url</th>\n",
       "      <th>userId</th>\n",
       "      <th>publishtime</th>\n",
       "      <th>time</th>\n",
       "      <th>documentId</th>\n",
       "      <th>user_id</th>\n",
       "      <th>article_id</th>\n",
       "      <th>category_cleaned</th>\n",
       "      <th>category_int</th>\n",
       "      <th>rank_latest</th>\n",
       "      <th>label</th>\n",
       "    </tr>\n",
       "  </thead>\n",
       "  <tbody>\n",
       "    <tr>\n",
       "      <th>3179</th>\n",
       "      <td>1851351593</td>\n",
       "      <td>nyheter|nordtrondelag</td>\n",
       "      <td>18.0</td>\n",
       "      <td>Unormalt røntgenbilde ble ikke fulgt opp - 14-...</td>\n",
       "      <td>http://adressa.no/nyheter/nordtrondelag/2017/0...</td>\n",
       "      <td>cx:1mbgezqbg3t0e1y066ytii2bad:3j3b1qv82lth4</td>\n",
       "      <td>2017-03-21T06:12:46.000Z</td>\n",
       "      <td>1490078330</td>\n",
       "      <td>2b44f8c808720ecf63b9b80a0e547dc9566dde74</td>\n",
       "      <td>127</td>\n",
       "      <td>75</td>\n",
       "      <td>nordtrondelag</td>\n",
       "      <td>12</td>\n",
       "      <td>9.0</td>\n",
       "      <td>1</td>\n",
       "    </tr>\n",
       "    <tr>\n",
       "      <th>3218</th>\n",
       "      <td>2031390276</td>\n",
       "      <td>nyheter|sortrondelag</td>\n",
       "      <td>NaN</td>\n",
       "      <td>Fant skjelett, trolig fra istida</td>\n",
       "      <td>http://adressa.no/nyheter/sortrondelag/2017/03...</td>\n",
       "      <td>cx:1mbgezqbg3t0e1y066ytii2bad:3j3b1qv82lth4</td>\n",
       "      <td>2017-03-19T21:08:58.000Z</td>\n",
       "      <td>1490078368</td>\n",
       "      <td>393cf82375d145db74f8d35fdac31ce94293913e</td>\n",
       "      <td>127</td>\n",
       "      <td>105</td>\n",
       "      <td>sortrondelag</td>\n",
       "      <td>18</td>\n",
       "      <td>8.0</td>\n",
       "      <td>1</td>\n",
       "    </tr>\n",
       "    <tr>\n",
       "      <th>5287</th>\n",
       "      <td>135036125</td>\n",
       "      <td>pluss|sport</td>\n",
       "      <td>NaN</td>\n",
       "      <td>Se hele topp 100-lista</td>\n",
       "      <td>http://adressa.no/pluss/sport/2017/03/07/rbks-...</td>\n",
       "      <td>cx:1mbgezqbg3t0e1y066ytii2bad:3j3b1qv82lth4</td>\n",
       "      <td>2017-03-07T08:12:10.000Z</td>\n",
       "      <td>1490083104</td>\n",
       "      <td>c557d56d63822d751abed796e0b6285842caa579</td>\n",
       "      <td>127</td>\n",
       "      <td>302</td>\n",
       "      <td>sport</td>\n",
       "      <td>19</td>\n",
       "      <td>7.0</td>\n",
       "      <td>1</td>\n",
       "    </tr>\n",
       "    <tr>\n",
       "      <th>7634</th>\n",
       "      <td>86548573</td>\n",
       "      <td>pluss|magasin</td>\n",
       "      <td>34.0</td>\n",
       "      <td>Snart må alle i Trondheim endre søppelvanene sine</td>\n",
       "      <td>http://adressa.no/pluss/magasin/2017/03/18/sli...</td>\n",
       "      <td>cx:1mbgezqbg3t0e1y066ytii2bad:3j3b1qv82lth4</td>\n",
       "      <td>2017-03-18T09:12:48.000Z</td>\n",
       "      <td>1490089175</td>\n",
       "      <td>2bd33f99074edd1262e6ce9c1b11b4fb9468115e</td>\n",
       "      <td>127</td>\n",
       "      <td>78</td>\n",
       "      <td>magasin</td>\n",
       "      <td>9</td>\n",
       "      <td>6.0</td>\n",
       "      <td>1</td>\n",
       "    </tr>\n",
       "    <tr>\n",
       "      <th>7649</th>\n",
       "      <td>485060606</td>\n",
       "      <td>nyheter|trondheim</td>\n",
       "      <td>26.0</td>\n",
       "      <td>- Viktig med en avklaring om det er lovstridig</td>\n",
       "      <td>http://adressa.no/nyheter/trondheim/2017/03/21...</td>\n",
       "      <td>cx:1mbgezqbg3t0e1y066ytii2bad:3j3b1qv82lth4</td>\n",
       "      <td>2017-03-21T06:37:49.000Z</td>\n",
       "      <td>1490089229</td>\n",
       "      <td>2841bd062456f1357c181ba7af01c60c1ed61602</td>\n",
       "      <td>127</td>\n",
       "      <td>69</td>\n",
       "      <td>trondheim</td>\n",
       "      <td>22</td>\n",
       "      <td>5.0</td>\n",
       "      <td>1</td>\n",
       "    </tr>\n",
       "    <tr>\n",
       "      <th>7672</th>\n",
       "      <td>1380867229</td>\n",
       "      <td>pluss|nyheter</td>\n",
       "      <td>NaN</td>\n",
       "      <td>Sjekk ruter og holdeplasser i vårt nye superbu...</td>\n",
       "      <td>http://adressa.no/pluss/nyheter/2017/03/20/sje...</td>\n",
       "      <td>cx:1mbgezqbg3t0e1y066ytii2bad:3j3b1qv82lth4</td>\n",
       "      <td>2017-03-20T12:15:19.000Z</td>\n",
       "      <td>1490089299</td>\n",
       "      <td>a86a943918c5f73f4f9afd5f449afa2d17f63ef6</td>\n",
       "      <td>127</td>\n",
       "      <td>270</td>\n",
       "      <td>nyheter</td>\n",
       "      <td>14</td>\n",
       "      <td>4.0</td>\n",
       "      <td>1</td>\n",
       "    </tr>\n",
       "    <tr>\n",
       "      <th>9172</th>\n",
       "      <td>1810064393</td>\n",
       "      <td>nyheter|trondheim</td>\n",
       "      <td>18.0</td>\n",
       "      <td>Vil ikke ha flere vannscootere i Trondheimheim...</td>\n",
       "      <td>http://adressa.no/nyheter/trondheim/2017/03/21...</td>\n",
       "      <td>cx:1mbgezqbg3t0e1y066ytii2bad:3j3b1qv82lth4</td>\n",
       "      <td>2017-03-21T10:57:32.000Z</td>\n",
       "      <td>1490094430</td>\n",
       "      <td>67ba44a662b89659886c3058707c85022fe18b96</td>\n",
       "      <td>127</td>\n",
       "      <td>181</td>\n",
       "      <td>trondheim</td>\n",
       "      <td>22</td>\n",
       "      <td>3.0</td>\n",
       "      <td>1</td>\n",
       "    </tr>\n",
       "    <tr>\n",
       "      <th>9187</th>\n",
       "      <td>948423005</td>\n",
       "      <td>100sport|ballsport</td>\n",
       "      <td>13.0</td>\n",
       "      <td>Talentet har kontrakt med Byåsen – får gå grat...</td>\n",
       "      <td>http://adressa.no/100sport/ballsport/-talentet...</td>\n",
       "      <td>cx:1mbgezqbg3t0e1y066ytii2bad:3j3b1qv82lth4</td>\n",
       "      <td>2017-03-21T09:34:26.000Z</td>\n",
       "      <td>1490094470</td>\n",
       "      <td>d1d0f675b2f9c81cd85b5fd3a8cc0640851ee173</td>\n",
       "      <td>127</td>\n",
       "      <td>318</td>\n",
       "      <td>ballsport</td>\n",
       "      <td>1</td>\n",
       "      <td>2.0</td>\n",
       "      <td>1</td>\n",
       "    </tr>\n",
       "  </tbody>\n",
       "</table>\n",
       "</div>"
      ],
      "text/plain": [
       "         eventId               category  activeTime  \\\n",
       "3179  1851351593  nyheter|nordtrondelag        18.0   \n",
       "3218  2031390276   nyheter|sortrondelag         NaN   \n",
       "5287   135036125            pluss|sport         NaN   \n",
       "7634    86548573          pluss|magasin        34.0   \n",
       "7649   485060606      nyheter|trondheim        26.0   \n",
       "7672  1380867229          pluss|nyheter         NaN   \n",
       "9172  1810064393      nyheter|trondheim        18.0   \n",
       "9187   948423005     100sport|ballsport        13.0   \n",
       "\n",
       "                                                  title  \\\n",
       "3179  Unormalt røntgenbilde ble ikke fulgt opp - 14-...   \n",
       "3218                   Fant skjelett, trolig fra istida   \n",
       "5287                             Se hele topp 100-lista   \n",
       "7634  Snart må alle i Trondheim endre søppelvanene sine   \n",
       "7649     - Viktig med en avklaring om det er lovstridig   \n",
       "7672  Sjekk ruter og holdeplasser i vårt nye superbu...   \n",
       "9172  Vil ikke ha flere vannscootere i Trondheimheim...   \n",
       "9187  Talentet har kontrakt med Byåsen – får gå grat...   \n",
       "\n",
       "                                                    url  \\\n",
       "3179  http://adressa.no/nyheter/nordtrondelag/2017/0...   \n",
       "3218  http://adressa.no/nyheter/sortrondelag/2017/03...   \n",
       "5287  http://adressa.no/pluss/sport/2017/03/07/rbks-...   \n",
       "7634  http://adressa.no/pluss/magasin/2017/03/18/sli...   \n",
       "7649  http://adressa.no/nyheter/trondheim/2017/03/21...   \n",
       "7672  http://adressa.no/pluss/nyheter/2017/03/20/sje...   \n",
       "9172  http://adressa.no/nyheter/trondheim/2017/03/21...   \n",
       "9187  http://adressa.no/100sport/ballsport/-talentet...   \n",
       "\n",
       "                                           userId               publishtime  \\\n",
       "3179  cx:1mbgezqbg3t0e1y066ytii2bad:3j3b1qv82lth4  2017-03-21T06:12:46.000Z   \n",
       "3218  cx:1mbgezqbg3t0e1y066ytii2bad:3j3b1qv82lth4  2017-03-19T21:08:58.000Z   \n",
       "5287  cx:1mbgezqbg3t0e1y066ytii2bad:3j3b1qv82lth4  2017-03-07T08:12:10.000Z   \n",
       "7634  cx:1mbgezqbg3t0e1y066ytii2bad:3j3b1qv82lth4  2017-03-18T09:12:48.000Z   \n",
       "7649  cx:1mbgezqbg3t0e1y066ytii2bad:3j3b1qv82lth4  2017-03-21T06:37:49.000Z   \n",
       "7672  cx:1mbgezqbg3t0e1y066ytii2bad:3j3b1qv82lth4  2017-03-20T12:15:19.000Z   \n",
       "9172  cx:1mbgezqbg3t0e1y066ytii2bad:3j3b1qv82lth4  2017-03-21T10:57:32.000Z   \n",
       "9187  cx:1mbgezqbg3t0e1y066ytii2bad:3j3b1qv82lth4  2017-03-21T09:34:26.000Z   \n",
       "\n",
       "            time                                documentId  user_id  \\\n",
       "3179  1490078330  2b44f8c808720ecf63b9b80a0e547dc9566dde74      127   \n",
       "3218  1490078368  393cf82375d145db74f8d35fdac31ce94293913e      127   \n",
       "5287  1490083104  c557d56d63822d751abed796e0b6285842caa579      127   \n",
       "7634  1490089175  2bd33f99074edd1262e6ce9c1b11b4fb9468115e      127   \n",
       "7649  1490089229  2841bd062456f1357c181ba7af01c60c1ed61602      127   \n",
       "7672  1490089299  a86a943918c5f73f4f9afd5f449afa2d17f63ef6      127   \n",
       "9172  1490094430  67ba44a662b89659886c3058707c85022fe18b96      127   \n",
       "9187  1490094470  d1d0f675b2f9c81cd85b5fd3a8cc0640851ee173      127   \n",
       "\n",
       "      article_id category_cleaned  category_int  rank_latest  label  \n",
       "3179          75    nordtrondelag            12          9.0      1  \n",
       "3218         105     sortrondelag            18          8.0      1  \n",
       "5287         302            sport            19          7.0      1  \n",
       "7634          78          magasin             9          6.0      1  \n",
       "7649          69        trondheim            22          5.0      1  \n",
       "7672         270          nyheter            14          4.0      1  \n",
       "9172         181        trondheim            22          3.0      1  \n",
       "9187         318        ballsport             1          2.0      1  "
      ]
     },
     "execution_count": 39,
     "metadata": {},
     "output_type": "execute_result"
    }
   ],
   "source": [
    "train_true[train_true[\"user_id\"]==127]"
   ]
  },
  {
   "cell_type": "code",
   "execution_count": 40,
   "id": "0d656205",
   "metadata": {},
   "outputs": [
    {
     "data": {
      "text/html": [
       "<div>\n",
       "<style scoped>\n",
       "    .dataframe tbody tr th:only-of-type {\n",
       "        vertical-align: middle;\n",
       "    }\n",
       "\n",
       "    .dataframe tbody tr th {\n",
       "        vertical-align: top;\n",
       "    }\n",
       "\n",
       "    .dataframe thead th {\n",
       "        text-align: right;\n",
       "    }\n",
       "</style>\n",
       "<table border=\"1\" class=\"dataframe\">\n",
       "  <thead>\n",
       "    <tr style=\"text-align: right;\">\n",
       "      <th></th>\n",
       "      <th>user_id</th>\n",
       "      <th>article_id</th>\n",
       "    </tr>\n",
       "  </thead>\n",
       "  <tbody>\n",
       "    <tr>\n",
       "      <th>9203</th>\n",
       "      <td>127</td>\n",
       "      <td>303</td>\n",
       "    </tr>\n",
       "  </tbody>\n",
       "</table>\n",
       "</div>"
      ],
      "text/plain": [
       "      user_id  article_id\n",
       "9203      127         303"
      ]
     },
     "execution_count": 40,
     "metadata": {},
     "output_type": "execute_result"
    }
   ],
   "source": [
    "test[test[\"user_id\"]==127]"
   ]
  },
  {
   "cell_type": "code",
   "execution_count": 41,
   "id": "8c2f67ba",
   "metadata": {},
   "outputs": [],
   "source": [
    "def get_category(article_id, df=df):  \n",
    "    return df[df[\"article_id\"] == article_id][\"category_int\"].values[0]"
   ]
  },
  {
   "cell_type": "code",
   "execution_count": 42,
   "id": "182a3bc5",
   "metadata": {},
   "outputs": [],
   "source": [
    "def get_items_interacted(user_id, df):\n",
    "    interacted_items = df[df[\"user_id\"]==user_id][\"article_id\"]\n",
    "    return set(interacted_items if type(interacted_items) == pd.Series else [interacted_items])\n",
    "\n",
    "def get_not_interacted(user_id, interactions_df=df):\n",
    "    interacted_items = get_items_interacted(user_id, interactions_df)\n",
    "    all_items = set(df[\"article_id\"])\n",
    "    not_interacted_items = all_items - interacted_items\n",
    "    random.seed(SEED)\n",
    "    not_interacted_items = random.sample(not_interacted_items, SAMPLE_SIZE)\n",
    "    return not_interacted_items"
   ]
  },
  {
   "cell_type": "code",
   "execution_count": 43,
   "id": "dd896472",
   "metadata": {},
   "outputs": [],
   "source": [
    "article_to_category = df[[\"article_id\", \"category_int\"]].set_index(\"article_id\").to_dict()[\"category_int\"]"
   ]
  },
  {
   "cell_type": "code",
   "execution_count": 44,
   "id": "61e5aee4",
   "metadata": {},
   "outputs": [],
   "source": [
    "def negative_sampling(train_df, user_id, article_id):\n",
    "    \"\"\"\n",
    "    Negative sample training instance; for each positive instance, add 4 negative articles\n",
    "    \n",
    "    Return user_ids, news_ids, category_1, category_2, authors_onehotencoded, titles\n",
    "    \"\"\"\n",
    "    \n",
    "    users, articles, categories, click_history, profiles, labels = [], [], [], [], [], []\n",
    "    user_item_set = set(zip(train_df[user_id].values, train_df[article_id].values))\n",
    "    for (u,i) in user_item_set:\n",
    "        for _ in range(NUM_NEGATIVES):\n",
    "            negative_item = np.random.choice(ALL_ARTICLE_IDS)\n",
    "            while (u, negative_item) in user_item_set:\n",
    "                negative_item = np.random.choice(ALL_ARTICLE_IDS)\n",
    "            users.append(u)\n",
    "            articles.append(negative_item)\n",
    "            categories.append(article_to_category[negative_item])\n",
    "            click_history.append(userid_to_click_history[u])\n",
    "            profiles.append(userid_to_profile[u])\n",
    "            labels.append(0)\n",
    "        users.append(u)\n",
    "        articles.append(i)\n",
    "        categories.append(article_to_category[i])\n",
    "        click_history.append(userid_to_click_history[u])\n",
    "        profiles.append(userid_to_profile[u])\n",
    "        labels.append(1)\n",
    "    \n",
    "    users, articles,categories,click_history,profiles, labels = shuffle(users, articles,categories,click_history,profiles, labels, random_state=0)\n",
    "    click_history = np.concatenate(click_history).reshape(-1, 10)\n",
    "    profiles = np.concatenate(profiles).reshape(-1,6)\n",
    "    return users, articles,categories,click_history,profiles, labels\n",
    "\n",
    "train_users, train_articles,train_categories,train_click_history,train_profiles, train_labels = negative_sampling(train, \"user_id\", \"article_id\")"
   ]
  },
  {
   "cell_type": "code",
   "execution_count": 45,
   "id": "48efc6b2",
   "metadata": {},
   "outputs": [],
   "source": [
    "df_train = pd.DataFrame(list(zip(train_users, train_articles,train_categories,train_click_history,train_profiles, train_labels)),\n",
    "                       columns=[\"user_id\", \"article_id\", \"category\", \"click_history\", \"user_profile\", \"label\"])"
   ]
  },
  {
   "cell_type": "markdown",
   "id": "00f12063",
   "metadata": {},
   "source": [
    "# 4 Models"
   ]
  },
  {
   "cell_type": "code",
   "execution_count": 114,
   "id": "b5b7a1bc",
   "metadata": {},
   "outputs": [],
   "source": [
    "def get_category_hit_ratio(user_profile, top_ten_categories):\n",
    "    num_hits = 0\n",
    "    for profile in user_profile:\n",
    "        for category in top_ten_categories:\n",
    "            if profile == category:\n",
    "                num_hits+= 1\n",
    "    \n",
    "    return num_hits\n",
    "def get_ndcgs_category(user_profile, top_ten_categories):\n",
    "    for i in range(len(top_ten_categories)):\n",
    "        item = top_ten_categories[i]\n",
    "        for profile in user_profile:\n",
    "            if item == profile:\n",
    "                return math.log(2) / math.log(i+2)\n",
    "    return 0"
   ]
  },
  {
   "cell_type": "code",
   "execution_count": 117,
   "id": "473b08cb",
   "metadata": {},
   "outputs": [],
   "source": [
    "def getHitRatio(ranklist, gtItem):\n",
    "    for item in ranklist:\n",
    "        if item == gtItem:\n",
    "            return 1\n",
    "    return 0\n",
    "\n",
    "def getNDCG(ranklist, gtItem):\n",
    "    for i in range(len(ranklist)):\n",
    "        item = ranklist[i]\n",
    "        if item == gtItem:\n",
    "            return math.log(2) / math.log(i+2)\n",
    "    return 0"
   ]
  },
  {
   "cell_type": "markdown",
   "id": "118f5fb0",
   "metadata": {},
   "source": [
    "# 4.1 Poposed method"
   ]
  },
  {
   "cell_type": "code",
   "execution_count": 46,
   "id": "1dd11c82",
   "metadata": {},
   "outputs": [
    {
     "name": "stdout",
     "output_type": "stream",
     "text": [
      "(None, 40)\n",
      "(None, 2)\n"
     ]
    }
   ],
   "source": [
    "def get_model( dense_layers=[128, 64, 32, 8]):\n",
    "    #User features\n",
    "    user_history = Input(shape=(10,), name=\"user\")\n",
    "    user_profile_input = Input(shape=(6,), name=\"profile\")\n",
    "    #item features\n",
    "    item_input = Input(shape=(1,), name=\"item\")\n",
    "    item_category = Input(shape=(1,), name=\"category\")\n",
    "    item_subcategory = Input(shape=(1,), name=\"subcategory\")\n",
    "    \n",
    "    # User emb\n",
    "    click_history_emb = Embedding(output_dim=DIMS, \n",
    "                                  input_dim=NUM_ARTICLES, \n",
    "                                  input_length=10,\n",
    "                                  embeddings_initializer='he_normal', \n",
    "                                  embeddings_regularizer=regularizers.l2(0.001), \n",
    "                                  name=\"mf_user_emb\")(user_history)\n",
    "    profile_emb = Embedding(output_dim=DIMS, \n",
    "                            input_dim=NUM_CATEGORIES, \n",
    "                            input_length=6, \n",
    "                            embeddings_initializer='he_normal', \n",
    "                            embeddings_regularizer=regularizers.l2(0.001),\n",
    "                            name=\"mf_profile_emb\")(user_profile_input)\n",
    "    \n",
    "    # Item emb\n",
    "    item_emb = Embedding(output_dim=DIMS, \n",
    "                         input_dim=NUM_ARTICLES, \n",
    "                         input_length=1,\n",
    "                         embeddings_initializer='he_normal', \n",
    "                         embeddings_regularizer=regularizers.l2(0.001), \n",
    "                         name=\"mf_item_emb\")(item_input)\n",
    "    category_emb = Embedding(output_dim=DIMS, \n",
    "                             input_dim=NUM_CATEGORIES, \n",
    "                             input_length=1,\n",
    "                             embeddings_initializer='he_normal', \n",
    "                             embeddings_regularizer=regularizers.l2(0.001),\n",
    "                             name=\"cat_emb\")(item_category)\n",
    "    \n",
    "    ### Wide\n",
    "    #wide_history = Flatten()(click_history_emb)\n",
    "    #wide_item = Flatten()(item_input)\n",
    "    wide = Concatenate(axis=1)([click_history_emb, item_emb])\n",
    "    wide = Flatten()(wide)\n",
    "    y_wide = Dense(2)(wide)\n",
    "    \n",
    "    ### Deep\n",
    "    deep_features = Concatenate(axis=1)([category_emb, profile_emb])\n",
    "    x_deep = LSTM(40)(deep_features)\n",
    "    \n",
    "    print(x_deep.shape)\n",
    "    print(y_wide.shape)\n",
    "    \n",
    "    final = Concatenate()([x_deep, y_wide])\n",
    "    final = BatchNormalization(axis=1)(final)\n",
    "   \n",
    "    y = Dense(1, activation=\"sigmoid\")(final)\n",
    "    \n",
    "    \n",
    "    model = Model(inputs=[user_history, user_profile_input, item_input, item_category], outputs=y)\n",
    "    model.compile(\n",
    "        optimizer=Adam(0.01),\n",
    "        loss=\"binary_crossentropy\",\n",
    "        metrics=[\"accuracy\"],\n",
    "    )\n",
    "    return model\n",
    "\n",
    "model_final = get_model()"
   ]
  },
  {
   "cell_type": "code",
   "execution_count": 47,
   "id": "4486ba0a",
   "metadata": {},
   "outputs": [],
   "source": [
    "users_input, articles_input, labels_input = np.array(train_users).reshape(-1,1), np.array(train_articles).reshape(-1,1), np.array(train_labels).reshape(-1,1)\n",
    "categories_input = np.array(train_categories).reshape(-1,1)\n"
   ]
  },
  {
   "cell_type": "code",
   "execution_count": 48,
   "id": "f83609aa",
   "metadata": {},
   "outputs": [
    {
     "name": "stdout",
     "output_type": "stream",
     "text": [
      "18/18 [==============================] - 2s 20ms/step - loss: 0.7777 - accuracy: 0.6194\n",
      "18/18 [==============================] - 0s 20ms/step - loss: 0.4242 - accuracy: 0.8384\n",
      "18/18 [==============================] - 0s 19ms/step - loss: 0.3359 - accuracy: 0.8785\n",
      "18/18 [==============================] - 0s 19ms/step - loss: 0.3092 - accuracy: 0.8847\n"
     ]
    }
   ],
   "source": [
    "#train_users, train_articles,train_categories,train_click_history,train_profiles, train_labels\n",
    "#user_id_input, user_profile_input, item_id_input, item_category_input\n",
    "train_loss = []\n",
    "val_loss = []\n",
    "train_acc = []\n",
    "val_acc = []\n",
    "\n",
    "hits_list = []\n",
    "ndcg_list = []\n",
    "best_hits = 0\n",
    "best_ndcgs = 0\n",
    "best_hits_five = 0\n",
    "best_ndcgs_five = 0\n",
    "\n",
    "epochs=4\n",
    "for epoch in range(epochs):\n",
    "    hist = model_final.fit([train_click_history, train_profiles, articles_input, categories_input], labels_input, epochs=1, shuffle=True, verbose=1, batch_size=1024)\n",
    "    \n",
    "    train_loss.append(hist.history[\"loss\"])\n",
    "    train_acc.append(hist.history[\"accuracy\"])"
   ]
  },
  {
   "cell_type": "code",
   "execution_count": 118,
   "id": "3d423a46",
   "metadata": {},
   "outputs": [
    {
     "name": "stderr",
     "output_type": "stream",
     "text": [
      "100it [00:04, 22.35it/s]\n"
     ]
    }
   ],
   "source": [
    "test_users = test.user_id.values\n",
    "test_items = test.article_id.values\n",
    "test_users, test_items = shuffle(test_users, test_items)\n",
    "test_users, test_items = test_users[:100], test_items[:100]\n",
    "test_set = zip(test_users, test_items)\n",
    "hits_ten,hits_five,ndcgs_ten,ndcgs_five = [], [], [], []\n",
    "h_ten, h_five, n_ten, n_five = [], [], [], []\n",
    "for (u,i) in tqdm(test_set):\n",
    "    not_interacted_items = get_not_interacted(u)\n",
    "    users = np.array([u]*100)\n",
    "    items = np.array([i]+not_interacted_items)\n",
    "    profiles = np.tile(np.array(userid_to_profile[u]), 100).reshape(-1, 6)\n",
    "    categories = np.tile(np.array(article_to_category[i]), 100).reshape(-1,1)\n",
    "    click_history = np.tile(userid_to_click_history[u], 100).reshape(-1,10)\n",
    "    \n",
    "    predictions = model_final.predict([click_history,profiles, items,categories])\n",
    "    predicted_labels = np.squeeze(predictions)\n",
    "    top_ten_items = [items[k] for k in np.argsort(predicted_labels)[::-1][0:10].tolist()]\n",
    "    \n",
    "    # ###\n",
    "    top_ten_categories = []\n",
    "    user_profile = userid_to_profile[u]\n",
    "    for rec_item in top_ten_items:\n",
    "        top_ten_categories.append(article_to_category[rec_item])\n",
    "        \n",
    "    hits_ten.append(get_category_hit_ratio(user_profile, top_ten_categories))\n",
    "    hits_five.append(get_category_hit_ratio(user_profile, top_ten_categories[:5]))\n",
    "    ndcgs_ten.append(get_ndcgs_category(user_profile, top_ten_categories))\n",
    "    ndcgs_five.append(get_ndcgs_category(user_profile, top_ten_categories[:5]))\n",
    "    \n",
    "    h_ten.append(getHitRatio(top_ten_items, i))\n",
    "    h_five.append(getHitRatio(top_ten_items[:5], i))\n",
    "    n_ten.append(getNDCG(top_ten_items, i))\n",
    "    n_five.append(getNDCG(top_ten_items[:5], i))\n",
    "\n"
   ]
  },
  {
   "cell_type": "code",
   "execution_count": 119,
   "id": "16439ba4",
   "metadata": {},
   "outputs": [
    {
     "name": "stdout",
     "output_type": "stream",
     "text": [
      "4.24\n",
      "1.9\n",
      "0.7363271431794394\n",
      "0.7091529454650081\n",
      "\n",
      "\n",
      "0.81\n",
      "0.63\n",
      "0.5260749455314282\n",
      "0.46601326534796716\n"
     ]
    }
   ],
   "source": [
    "print(np.average(hits_ten))\n",
    "print(np.average(hits_five))\n",
    "print(np.average(ndcgs_ten))\n",
    "print(np.average(ndcgs_five))\n",
    "\n",
    "print(\"\\n\")\n",
    "print(np.average(h_ten))\n",
    "print(np.average(h_five))\n",
    "print(np.average(n_ten))\n",
    "print(np.average(n_five))"
   ]
  },
  {
   "cell_type": "code",
   "execution_count": 109,
   "id": "4d1ba33d",
   "metadata": {},
   "outputs": [
    {
     "data": {
      "image/png": "[encoded data removed]",
      "text/plain": [
       "<Figure size 432x288 with 1 Axes>"
      ]
     },
     "metadata": {},
     "output_type": "display_data"
    }
   ],
   "source": [
    "sns.set_style(\"darkgrid\")\n",
    "plt.plot(train_loss)\n",
    "plt.plot(val_loss)\n",
    "plt.title('Loss')\n",
    "plt.ylabel('loss')\n",
    "plt.xlabel('epoch')\n",
    "plt.legend(['Train', 'Val'], loc='upper left')\n",
    "plt.savefig(\"arc4_loss.pdf\")\n",
    "plt.show()"
   ]
  },
  {
   "cell_type": "markdown",
   "id": "2592550f",
   "metadata": {},
   "source": [
    "# 4.2 Arc 1"
   ]
  },
  {
   "cell_type": "code",
   "execution_count": 55,
   "id": "b27a1039",
   "metadata": {},
   "outputs": [],
   "source": [
    "#@tf.autograph.experimental.do_not_convert\n",
    "def get_model_ncf(dense_layers=[128, 64, 32, 8]):\n",
    "    user_input = Input(shape=(1,), name=\"user\")\n",
    "    item_input = Input(shape=(1,), name=\"item\")\n",
    "    \n",
    "    user_emb = Embedding(output_dim=DIMS, \n",
    "                         input_dim=NUM_USERS, \n",
    "                         input_length=1,\n",
    "                         embeddings_initializer='he_normal', \n",
    "                         embeddings_regularizer=regularizers.l2(0.001),\n",
    "                         name=\"mf_user_emb\")(user_input)\n",
    "    item_emb = Embedding(output_dim=DIMS, \n",
    "                         input_dim=NUM_ARTICLES, \n",
    "                         input_length=1,\n",
    "                         embeddings_initializer='he_normal', \n",
    "                         embeddings_regularizer=regularizers.l2(0.001),\n",
    "                         name=\"mf_item_emb\")(item_input)\n",
    "    \n",
    "    user_vecs = Flatten()(user_emb)\n",
    "    item_vecs = Flatten()(item_emb)\n",
    "    \n",
    "    #y = Multiply()([user_vecs, item_vecs])\n",
    "    y = Dot(1, normalize=False)([user_vecs, item_vecs])\n",
    "    \n",
    "    y = Dense(1, activation=\"sigmoid\")(y)\n",
    "    \n",
    "    \n",
    "    model = Model(inputs=[user_input, item_input], outputs=y)\n",
    "    model.compile(\n",
    "        optimizer=Adam(0.01),\n",
    "        loss=\"mse\",\n",
    "        metrics=[\"accuracy\"],\n",
    "    )\n",
    "    return model\n",
    "\n",
    "model_arc1 = get_model_ncf()"
   ]
  },
  {
   "cell_type": "code",
   "execution_count": null,
   "id": "702598a4",
   "metadata": {},
   "outputs": [],
   "source": [
    "users_input, articles_input, labels_input = np.array(train_users).reshape(-1,1), np.array(train_articles).reshape(-1,1), np.array(train_labels).reshape(-1,1)"
   ]
  },
  {
   "cell_type": "code",
   "execution_count": 56,
   "id": "cbb6c14c",
   "metadata": {},
   "outputs": [
    {
     "name": "stdout",
     "output_type": "stream",
     "text": [
      "18/18 [==============================] - 0s 1ms/step - loss: 0.2816 - accuracy: 0.7100\n",
      "18/18 [==============================] - 0s 2ms/step - loss: 0.2177 - accuracy: 0.8000\n",
      "18/18 [==============================] - 0s 2ms/step - loss: 0.1990 - accuracy: 0.8000\n",
      "18/18 [==============================] - 0s 2ms/step - loss: 0.1863 - accuracy: 0.8000\n"
     ]
    }
   ],
   "source": [
    "all_user_ids = train.index.unique().values\n",
    "\n",
    "#user_input = df_train.iloc[:, 0].values.reshape((-1,1))\n",
    "#profile_input = df_train.iloc[:, 1:6].values\n",
    "#item_input = df_train.iloc[:, 7].values.reshape((-1,1))\n",
    "#labels = df_train.iloc[:, 8].values.reshape((-1,1))\n",
    "\n",
    "\n",
    "train_loss = []\n",
    "val_loss = []\n",
    "train_acc = []\n",
    "val_acc = []\n",
    "\n",
    "hits_list = []\n",
    "ndcg_list = []\n",
    "best_hits = 0\n",
    "best_ndcgs = 0\n",
    "best_hits_five = 0\n",
    "best_ndcgs_five = 0\n",
    "\n",
    "epochs=4\n",
    "for epoch in range(epochs):\n",
    "    hist = model_arc1.fit([users_input, articles_input], labels_input, epochs=1, shuffle=True, verbose=1, batch_size=1024)\n",
    "    \n",
    "    train_loss.append(hist.history[\"loss\"])\n",
    "    train_acc.append(hist.history[\"accuracy\"])\n",
    "    #val_loss.append(hist.history[\"val_loss\"])\n",
    "    #val_acc.append(hist.history[\"val_accuracy\"])\n",
    "    \n",
    "    #hits, ndcgs, hits_five, ndcgs_five = evalaute_model_neumf( model_neumf, df_test, userid_to_true_item)\n",
    "    #hits_list.append(np.average(hits))\n",
    "    #ndcg_list.append(np.average(ndcgs))\n",
    "    \n",
    "    #temp_hits = np.average(hits)\n",
    "    #temp_ndcgs = np.average(ndcgs)\n",
    "    #if (temp_hits > best_hits):\n",
    "    #    best_hits = temp_hits\n",
    "    #    best_ndcgs = temp_ndcgs\n",
    "    #    best_hits_five = np.average(hits_five)\n",
    "    #    best_ndcgs_five = np.average(ndcgs_five)"
   ]
  },
  {
   "cell_type": "code",
   "execution_count": 58,
   "id": "9e9b7ae0",
   "metadata": {},
   "outputs": [
    {
     "name": "stderr",
     "output_type": "stream",
     "text": [
      "100it [00:03, 28.11it/s]\n"
     ]
    }
   ],
   "source": [
    "\n",
    "test_users = test.user_id.values\n",
    "test_items = test.article_id.values\n",
    "test_users, test_items = shuffle(test_users, test_items)\n",
    "test_users, test_items = test_users[:100], test_items[:100]\n",
    "test_set = zip(test_users, test_items)\n",
    "hits_ten,hits_five,ndcgs_ten,ndcgs_five = [], [], [], []\n",
    "for (u,i) in tqdm(test_set):\n",
    "    not_interacted_items = get_not_interacted(u)\n",
    "    users = np.array([u]*100)\n",
    "    items = np.array([i]+not_interacted_items)\n",
    "    predictions = model_arc1.predict([users, items])\n",
    "    predicted_labels = np.squeeze(predictions)\n",
    "    top_ten_items = [items[k] for k in np.argsort(predicted_labels)[::-1][0:10].tolist()]\n",
    "    \n",
    "    ###\n",
    "    top_ten_categories = []\n",
    "    user_profile = userid_to_profile[u]\n",
    "    for rec_item in top_ten_items:\n",
    "        top_ten_categories.append(article_to_category[rec_item])\n",
    "        \n",
    "    hits_ten.append(get_category_hit_ratio(user_profile, top_ten_categories))\n",
    "    hits_five.append(get_category_hit_ratio(user_profile, top_ten_categories[:5]))\n",
    "    ndcgs_ten.append(get_ndcgs_category(user_profile, top_ten_categories))\n",
    "    ndcgs_five.append(get_ndcgs_category(user_profile, top_ten_categories[:5]))"
   ]
  },
  {
   "cell_type": "code",
   "execution_count": 106,
   "id": "ff63127c",
   "metadata": {},
   "outputs": [
    {
     "name": "stdout",
     "output_type": "stream",
     "text": [
      "4.54\n",
      "2.44\n",
      "0.7373402188236722\n",
      "0.7245086034325083\n"
     ]
    }
   ],
   "source": [
    "print(np.average(hits_ten))\n",
    "print(np.average(hits_five))\n",
    "print(np.average(ndcgs_ten))\n",
    "print(np.average(ndcgs_five))"
   ]
  },
  {
   "cell_type": "code",
   "execution_count": 107,
   "id": "d102e95b",
   "metadata": {},
   "outputs": [
    {
     "data": {
      "image/png": "[encoded data removed]",
      "text/plain": [
       "<Figure size 432x288 with 1 Axes>"
      ]
     },
     "metadata": {},
     "output_type": "display_data"
    }
   ],
   "source": [
    "sns.set_style(\"darkgrid\")\n",
    "plt.plot(train_loss)\n",
    "plt.plot(val_loss)\n",
    "plt.title('Loss')\n",
    "plt.ylabel('loss')\n",
    "plt.xlabel('epoch')\n",
    "plt.legend(['Train', 'Val'], loc='upper left')\n",
    "plt.savefig(\"arc4_loss.pdf\")\n",
    "plt.show()"
   ]
  },
  {
   "cell_type": "markdown",
   "id": "cccbd47d",
   "metadata": {},
   "source": [
    "# 4.2 Arch 3 - Wide and deep with features"
   ]
  },
  {
   "cell_type": "code",
   "execution_count": 100,
   "id": "06f4dbe4",
   "metadata": {},
   "outputs": [],
   "source": [
    "def get_model_wide( dense_layers=[128, 64, 32, 8]):\n",
    "    #### Matrix factorization ####\n",
    "    user_id_input = Input(shape=[1], name=\"user_id\")\n",
    "    item_id_input = Input(shape=[1], name=\"item_id\")\n",
    "    user_embedding = Embedding(input_dim=NUM_USERS, \n",
    "                               output_dim=DIMS, \n",
    "                               input_length=1, \n",
    "                               embeddings_initializer='he_normal', \n",
    "                               embeddings_regularizer=regularizers.l2(0.001),\n",
    "                               name=\"user_embedding\")(user_id_input)\n",
    "    item_embedding = Embedding(input_dim=NUM_ARTICLES, \n",
    "                               output_dim=DIMS, \n",
    "                               embeddings_initializer='he_normal', \n",
    "                            embeddings_regularizer=regularizers.l2(0.001),\n",
    "                               name=\"item_embedding\")(item_id_input)\n",
    "    \n",
    "    user_flatten = Flatten()(user_embedding)\n",
    "    item_flatten = Flatten()(item_embedding)\n",
    "    mf_vec = Concatenate()([user_flatten, item_flatten])\n",
    "    \n",
    "    x_deep = Dense(128, activation=\"relu\", kernel_initializer='he_uniform',kernel_regularizer=regularizers.l2(0.001))(mf_vec)\n",
    "    x_deep = Dropout(0.2)(x_deep)\n",
    "    x_deep = Dense(64, activation=\"relu\",kernel_initializer='he_uniform', kernel_regularizer=regularizers.l2(0.001))(x_deep)\n",
    "    x_deep = Dropout(0.2)(x_deep)\n",
    "    \n",
    "    #### Wide part ####\n",
    "    \n",
    "    user_profile_input = Input(shape=(6,), name=\"user_profile\")\n",
    "    item_category_input = Input(shape=(1,), name=\"category_input\")\n",
    "    \n",
    "    item_category_emb = Embedding(input_dim=NUM_CATEGORIES, output_dim=DIMS, name=\"category_emd\", embeddings_regularizer=regularizers.l2(0.001))(item_category_input)\n",
    "    user_profile_emb = Embedding(input_dim=NUM_CATEGORIES, output_dim=DIMS,embeddings_regularizer=regularizers.l2(0.001), name=\"profile_emb\")(user_profile_input)\n",
    "\n",
    "    item_category_flatten = Flatten()(item_category_emb)\n",
    "    user_profile_flatten = Flatten()(user_profile_emb)\n",
    "    \n",
    "    wide_features = Concatenate()([item_category_flatten,  user_profile_flatten])\n",
    "    \n",
    "    x_wide = Dense(128, activation=\"relu\",kernel_initializer='he_uniform', kernel_regularizer=regularizers.l2(0.001))(wide_features)\n",
    "    x_wide = Dropout(0.5)(x_wide)\n",
    "    x_wide = Dense(64, activation=\"relu\",kernel_initializer='he_uniform', kernel_regularizer=regularizers.l2(0.001))(x_wide)\n",
    "    x_wide = Dropout(0.5)(x_wide)\n",
    "    \n",
    "    final = Concatenate()([x_deep,x_wide])\n",
    "    x = Dense(128, kernel_initializer='he_uniform',activation=\"relu\")(final)\n",
    "    x = Dropout(0.5)(x)\n",
    "    y = Dense(1, activation=\"sigmoid\")(x)\n",
    "    \n",
    "    \n",
    "    model = Model(inputs=[user_id_input, user_profile_input, item_id_input, item_category_input], outputs=y)\n",
    "    model.compile(\n",
    "        optimizer=Adam(0.001),\n",
    "        loss=\"binary_crossentropy\",\n",
    "        metrics=[\"accuracy\"],\n",
    "    )\n",
    "    return model\n",
    "\n",
    "model_wide = get_model_wide()"
   ]
  },
  {
   "cell_type": "code",
   "execution_count": 101,
   "id": "d3c3bdfe",
   "metadata": {},
   "outputs": [],
   "source": [
    "users_input, articles_input, labels_input = np.array(train_users).reshape(-1,1), np.array(train_articles).reshape(-1,1), np.array(train_labels).reshape(-1,1)\n",
    "categories_input = np.array(train_categories).reshape(-1,1)"
   ]
  },
  {
   "cell_type": "code",
   "execution_count": 103,
   "id": "f7ab2a72",
   "metadata": {},
   "outputs": [
    {
     "name": "stdout",
     "output_type": "stream",
     "text": [
      "18/18 [==============================] - 1s 9ms/step - loss: 1.4208 - accuracy: 0.7459\n",
      "18/18 [==============================] - 0s 8ms/step - loss: 1.1350 - accuracy: 0.8000\n",
      "18/18 [==============================] - 0s 8ms/step - loss: 0.9697 - accuracy: 0.8000\n",
      "18/18 [==============================] - 0s 9ms/step - loss: 0.7954 - accuracy: 0.8026\n"
     ]
    }
   ],
   "source": [
    "#users_input, train_profiles, articles_input, categories_input\n",
    "train_loss = []\n",
    "val_loss = []\n",
    "train_acc = []\n",
    "val_acc = []\n",
    "\n",
    "hits_list = []\n",
    "ndcg_list = []\n",
    "best_hits = 0\n",
    "best_ndcgs = 0\n",
    "best_hits_five = 0\n",
    "best_ndcgs_five = 0\n",
    "\n",
    "epochs=4\n",
    "for epoch in range(epochs):\n",
    "    hist = model_wide.fit([users_input, train_profiles, articles_input, categories_input], labels_input, epochs=1, shuffle=True, verbose=1, batch_size=1024)\n",
    "    \n",
    "    train_loss.append(hist.history[\"loss\"])\n",
    "    train_acc.append(hist.history[\"accuracy\"])"
   ]
  },
  {
   "cell_type": "code",
   "execution_count": 104,
   "id": "5c5e3c79",
   "metadata": {},
   "outputs": [
    {
     "name": "stderr",
     "output_type": "stream",
     "text": [
      "100it [00:04, 20.71it/s]\n"
     ]
    }
   ],
   "source": [
    "test_users = test.user_id.values\n",
    "test_items = test.article_id.values\n",
    "test_users, test_items = shuffle(test_users, test_items)\n",
    "test_users, test_items = test_users[:100], test_items[:100]\n",
    "test_set = zip(test_users, test_items)\n",
    "hits_ten,hits_five,ndcgs_ten,ndcgs_five = [], [], [], []\n",
    "for (u,i) in tqdm(test_set):\n",
    "    not_interacted_items = get_not_interacted(u)\n",
    "    users = np.array([u]*100)\n",
    "    items = np.array([i]+not_interacted_items)\n",
    "    profiles = np.tile(np.array(userid_to_profile[u]), 100).reshape(-1, 6)\n",
    "    categories = np.tile(np.array(article_to_category[i]), 100).reshape(-1,1)\n",
    "    click_history = np.tile(userid_to_click_history[u], 100).reshape(-1,10)\n",
    "\n",
    "    predictions = model_wide.predict([users,profiles, items,categories])\n",
    "    predicted_labels = np.squeeze(predictions)\n",
    "    top_ten_items = [items[k] for k in np.argsort(predicted_labels)[::-1][0:10].tolist()]\n",
    "    \n",
    "    ###\n",
    "    top_ten_categories = []\n",
    "    user_profile = userid_to_profile[u]\n",
    "    for rec_item in top_ten_items:\n",
    "        top_ten_categories.append(article_to_category[rec_item])\n",
    "        \n",
    "    hits_ten.append(get_category_hit_ratio(user_profile, top_ten_categories))\n",
    "    hits_five.append(get_category_hit_ratio(user_profile, top_ten_categories[:5]))\n",
    "    ndcgs_ten.append(get_ndcgs_category(user_profile, top_ten_categories))\n",
    "    ndcgs_five.append(get_ndcgs_category(user_profile, top_ten_categories[:5]))"
   ]
  },
  {
   "cell_type": "code",
   "execution_count": 110,
   "id": "76bc430f",
   "metadata": {},
   "outputs": [
    {
     "name": "stdout",
     "output_type": "stream",
     "text": [
      "4.54\n",
      "2.44\n",
      "0.7373402188236722\n",
      "0.7245086034325083\n"
     ]
    }
   ],
   "source": [
    "print(np.average(hits_ten))\n",
    "print(np.average(hits_five))\n",
    "print(np.average(ndcgs_ten))\n",
    "print(np.average(ndcgs_five))"
   ]
  },
  {
   "cell_type": "code",
   "execution_count": 111,
   "id": "c86d9efc",
   "metadata": {},
   "outputs": [
    {
     "data": {
      "image/png": "[encoded data removed]",
      "text/plain": [
       "<Figure size 432x288 with 1 Axes>"
      ]
     },
     "metadata": {},
     "output_type": "display_data"
    }
   ],
   "source": [
    "sns.set_style(\"darkgrid\")\n",
    "plt.plot(train_loss)\n",
    "plt.plot(val_loss)\n",
    "plt.title('Loss')\n",
    "plt.ylabel('loss')\n",
    "plt.xlabel('epoch')\n",
    "plt.legend(['Train', 'Val'], loc='upper left')\n",
    "plt.savefig(\"arc4_loss.pdf\")\n",
    "plt.show()"
   ]
  },
  {
   "cell_type": "markdown",
   "id": "6f050de2",
   "metadata": {},
   "source": [
    "# 4.3 Arch 2 - NeuMF with features"
   ]
  },
  {
   "cell_type": "code",
   "execution_count": 67,
   "id": "a0dab2bd",
   "metadata": {},
   "outputs": [],
   "source": [
    "\n",
    "def get_model_neumffeatures( dense_layers=[128, 64, 32, 8]):\n",
    "    user_input = Input(shape=(1,), name=\"user_input\")\n",
    "    item_input = Input(shape=(1,), name=\"item\")\n",
    "    user_history = Input(shape=(10,), name=\"user\")\n",
    "    user_profile_input = Input(shape=(6,), name=\"profile\")\n",
    "    #item features\n",
    "    item_category = Input(shape=(1,), name=\"category\")\n",
    "    \n",
    "    \n",
    "    mf_user_emb = Embedding(output_dim=DIMS, \n",
    "                            input_dim=NUM_USERS, \n",
    "                            input_length=1, \n",
    "                            embeddings_initializer='he_normal', \n",
    "                            embeddings_regularizer=regularizers.l2(0.001),\n",
    "                            name=\"mf_user_emb\")(user_input)\n",
    "    mf_item_emb = Embedding(output_dim=DIMS, \n",
    "                            input_dim=NUM_ARTICLES,\n",
    "                            embeddings_initializer='he_normal', \n",
    "                            embeddings_regularizer=regularizers.l2(0.001),\n",
    "                            input_length=1, name=\"mf_item_emb\")(item_input)\n",
    "    \n",
    "    num_layers = len(dense_layers)\n",
    "    \n",
    "    \n",
    "    \n",
    "    \n",
    "    # User emb\n",
    "    mlp_click_history_emb = Embedding(output_dim=int(dense_layers[0] / 2), input_dim=NUM_ARTICLES, input_length=10, name=\"mlp_user_emb\")(user_history)\n",
    "    mlp_profile_emb = Embedding(output_dim=int(dense_layers[0] / 2), input_dim=NUM_CATEGORIES, input_length=6, name=\"mlp_profile_emb\")(user_profile_input)\n",
    "    \n",
    "    # Item emb\n",
    "    mlp_item_emb = Embedding(output_dim=int(dense_layers[0] / 2), input_dim=NUM_ARTICLES, input_length=1, name=\"mlp_item_emb\")(item_input)\n",
    "    mlp_category_emb = Embedding(output_dim=int(dense_layers[0] / 2), input_dim=NUM_CATEGORIES, input_length=1, name=\"cat_emb\")(item_category)\n",
    "    \n",
    "    ### Wide\n",
    "    wide = Concatenate(axis=1)([mlp_click_history_emb,mlp_profile_emb,mlp_item_emb,mlp_category_emb ])\n",
    "    mlp_vector = Flatten()(wide)\n",
    "    \n",
    "    # Matrix factorization\n",
    "    mf_user_vecs = Flatten()(mf_user_emb)\n",
    "    mf_item_vecs = Flatten()(mf_item_emb)\n",
    "    mf_vec = multiply([mf_user_vecs, mf_item_vecs])\n",
    "    \n",
    "    \n",
    "    for num_nodes in dense_layers:\n",
    "        l = Dense(num_nodes, activation=\"relu\")\n",
    "        mlp_vector = l(mlp_vector)\n",
    "    \n",
    "    y = Concatenate()([mf_vec, mlp_vector])\n",
    "    y = Dense(1, activation=\"sigmoid\", name=\"pred\")(y)\n",
    "    \n",
    "    \n",
    "    model = Model(inputs=[user_input,user_history, user_profile_input, item_input,item_category], outputs=y)\n",
    "    model.compile(\n",
    "        optimizer=Adam(0.01),\n",
    "        loss=\"binary_crossentropy\",\n",
    "        metrics=[\"accuracy\"],\n",
    "    )\n",
    "    return model\n",
    "\n",
    "model_neumffeatures = get_model_neumffeatures()"
   ]
  },
  {
   "cell_type": "code",
   "execution_count": 68,
   "id": "eb9f283f",
   "metadata": {},
   "outputs": [],
   "source": [
    "users_input, articles_input, labels_input = np.array(train_users).reshape(-1,1), np.array(train_articles).reshape(-1,1), np.array(train_labels).reshape(-1,1)\n",
    "categories_input = np.array(train_categories).reshape(-1,1)"
   ]
  },
  {
   "cell_type": "code",
   "execution_count": 69,
   "id": "06187f8b",
   "metadata": {},
   "outputs": [
    {
     "name": "stdout",
     "output_type": "stream",
     "text": [
      "18/18 [==============================] - 1s 11ms/step - loss: 0.5753 - accuracy: 0.7307\n",
      "18/18 [==============================] - 0s 11ms/step - loss: 0.3111 - accuracy: 0.8021\n",
      "18/18 [==============================] - 0s 11ms/step - loss: 0.2740 - accuracy: 0.8859\n",
      "18/18 [==============================] - 0s 11ms/step - loss: 0.2584 - accuracy: 0.8895\n"
     ]
    }
   ],
   "source": [
    "#users_input, train_profiles, articles_input, categories_input\n",
    "train_loss = []\n",
    "val_loss = []\n",
    "train_acc = []\n",
    "val_acc = []\n",
    "\n",
    "hits_list = []\n",
    "ndcg_list = []\n",
    "best_hits = 0\n",
    "best_ndcgs = 0\n",
    "best_hits_five = 0\n",
    "best_ndcgs_five = 0\n",
    "\n",
    "epochs=4\n",
    "for epoch in range(epochs):\n",
    "    hist = model_neumffeatures.fit([users_input,train_click_history, train_profiles, articles_input, categories_input], labels_input, epochs=1, shuffle=True, verbose=1, batch_size=1024)\n",
    "    \n",
    "    train_loss.append(hist.history[\"loss\"])\n",
    "    train_acc.append(hist.history[\"accuracy\"])"
   ]
  },
  {
   "cell_type": "code",
   "execution_count": 72,
   "id": "2ca1623d",
   "metadata": {},
   "outputs": [
    {
     "name": "stderr",
     "output_type": "stream",
     "text": [
      "100it [00:04, 20.06it/s]\n"
     ]
    }
   ],
   "source": [
    "test_users = test.user_id.values\n",
    "test_items = test.article_id.values\n",
    "test_users, test_items = shuffle(test_users, test_items)\n",
    "test_users, test_items = test_users[:100], test_items[:100]\n",
    "test_set = zip(test_users, test_items)\n",
    "hits_ten,hits_five,ndcgs_ten,ndcgs_five = [], [], [], []\n",
    "for (u,i) in tqdm(test_set):\n",
    "    not_interacted_items = get_not_interacted(u)\n",
    "    users = np.array([u]*100)\n",
    "    items = np.array([i]+not_interacted_items)\n",
    "    profiles = np.tile(np.array(userid_to_profile[u]), 100).reshape(-1, 6)\n",
    "    categories = np.tile(np.array(article_to_category[i]), 100).reshape(-1,1)\n",
    "    click_history = np.tile(userid_to_click_history[u], 100).reshape(-1,10)\n",
    "\n",
    "    predictions = model_neumffeatures.predict([users,click_history,profiles, items,categories])\n",
    "    predicted_labels = np.squeeze(predictions)\n",
    "    top_ten_items = [items[k] for k in np.argsort(predicted_labels)[::-1][0:10].tolist()]\n",
    "    \n",
    "    ###\n",
    "    top_ten_categories = []\n",
    "    user_profile = userid_to_profile[u]\n",
    "    for rec_item in top_ten_items:\n",
    "        top_ten_categories.append(article_to_category[rec_item])\n",
    "        \n",
    "    hits_ten.append(get_category_hit_ratio(user_profile, top_ten_categories))\n",
    "    hits_five.append(get_category_hit_ratio(user_profile, top_ten_categories[:5]))\n",
    "    ndcgs_ten.append(get_ndcgs_category(user_profile, top_ten_categories))\n",
    "    ndcgs_five.append(get_ndcgs_category(user_profile, top_ten_categories[:5]))"
   ]
  },
  {
   "cell_type": "code",
   "execution_count": 112,
   "id": "e40a8051",
   "metadata": {},
   "outputs": [
    {
     "name": "stdout",
     "output_type": "stream",
     "text": [
      "4.54\n",
      "2.44\n",
      "0.7373402188236722\n",
      "0.7245086034325083\n"
     ]
    }
   ],
   "source": [
    "print(np.average(hits_ten))\n",
    "print(np.average(hits_five))\n",
    "print(np.average(ndcgs_ten))\n",
    "print(np.average(ndcgs_five))"
   ]
  },
  {
   "cell_type": "code",
   "execution_count": null,
   "id": "498abd40",
   "metadata": {},
   "outputs": [],
   "source": [
    "sns.set_style(\"darkgrid\")\n",
    "plt.plot(train_loss)\n",
    "plt.plot(val_loss)\n",
    "plt.title('Loss')\n",
    "plt.ylabel('loss')\n",
    "plt.xlabel('epoch')\n",
    "plt.legend(['Train', 'Val'], loc='upper left')\n",
    "plt.savefig(\"arc4_loss.pdf\")\n",
    "plt.show()"
   ]
  },
  {
   "cell_type": "markdown",
   "id": "c819cf37",
   "metadata": {},
   "source": [
    "# 4.4 Arch 3"
   ]
  },
  {
   "cell_type": "code",
   "execution_count": 82,
   "id": "facfa81b",
   "metadata": {},
   "outputs": [],
   "source": [
    "#@tf.autograph.experimental.do_not_convert\n",
    "def get_model_arc3( dense_layers=[128, 64, 32, 8]):\n",
    "    #User features\n",
    "    user_history = Input(shape=(10,), name=\"user\")\n",
    "    user_profile_input = Input(shape=(6,), name=\"profile\")\n",
    "    #item features\n",
    "    item_input = Input(shape=(1,), name=\"item\")\n",
    "    item_category = Input(shape=(1,), name=\"category\")\n",
    "    \n",
    "    # User emb\n",
    "    click_history_emb = Embedding(output_dim=DIMS, input_dim=NUM_ARTICLES, input_length=10, name=\"mf_user_emb\")(user_history)\n",
    "    profile_emb = Embedding(output_dim=DIMS, input_dim=NUM_CATEGORIES, input_length=6, name=\"mf_profile_emb\")(user_profile_input)\n",
    "    \n",
    "    #user_features = Concatenate(axis=1)([click_history_emb,profile_emb])\n",
    "    \n",
    "    # Item emb\n",
    "    item_emb = Embedding(output_dim=DIMS, input_dim=NUM_ARTICLES, input_length=1, name=\"mf_item_emb\")(item_input)\n",
    "    category_emb = Embedding(output_dim=DIMS, input_dim=NUM_CATEGORIES, input_length=1, name=\"cat_emb\")(item_category)\n",
    "    \n",
    "    item_features = Concatenate(axis=1)([item_emb,category_emb, profile_emb])\n",
    "    \n",
    "    # User-tower\n",
    "    user_lstm = LSTM(40)(click_history_emb)\n",
    "    user_lstm = Dropout(0.5)(user_lstm)\n",
    "    user_lstm = BatchNormalization(axis=1)(user_lstm)\n",
    "    \n",
    "    # Item tower\n",
    "    item_dense = Flatten()(item_features)\n",
    "    item_dense = Dense(128)(item_dense)\n",
    "    item_dense = Dropout(0.5)(item_dense)\n",
    "    item_dense = BatchNormalization(axis=1)(item_dense)\n",
    "    \n",
    "    # Click predictor\n",
    "    final = Concatenate()([user_lstm,item_dense ])\n",
    "    y = Dense(1, activation=\"sigmoid\")(final)\n",
    "    \n",
    "    \n",
    "    model = Model(inputs=[user_history, user_profile_input, item_input, item_category], outputs=y)\n",
    "    model.compile(\n",
    "        optimizer=Adam(0.01),\n",
    "        loss=\"binary_crossentropy\",\n",
    "        metrics=[\"accuracy\"],\n",
    "    )\n",
    "    return model\n",
    "\n",
    "model_arc3 = get_model_arc3()"
   ]
  },
  {
   "cell_type": "code",
   "execution_count": 83,
   "id": "d89df84a",
   "metadata": {},
   "outputs": [],
   "source": [
    "users_input, articles_input, labels_input = np.array(train_users).reshape(-1,1), np.array(train_articles).reshape(-1,1), np.array(train_labels).reshape(-1,1)\n",
    "categories_input = np.array(train_categories).reshape(-1,1)"
   ]
  },
  {
   "cell_type": "code",
   "execution_count": 84,
   "id": "d7fdcfba",
   "metadata": {},
   "outputs": [
    {
     "name": "stdout",
     "output_type": "stream",
     "text": [
      "18/18 [==============================] - 2s 31ms/step - loss: 0.5622 - accuracy: 0.7149\n",
      "18/18 [==============================] - 1s 31ms/step - loss: 0.2956 - accuracy: 0.8803\n",
      "18/18 [==============================] - 1s 30ms/step - loss: 0.2823 - accuracy: 0.8816\n",
      "18/18 [==============================] - 1s 34ms/step - loss: 0.2756 - accuracy: 0.8811\n"
     ]
    }
   ],
   "source": [
    "#users_input, train_profiles, articles_input, categories_input\n",
    "train_loss = []\n",
    "val_loss = []\n",
    "train_acc = []\n",
    "val_acc = []\n",
    "\n",
    "hits_list = []\n",
    "ndcg_list = []\n",
    "best_hits = 0\n",
    "best_ndcgs = 0\n",
    "best_hits_five = 0\n",
    "best_ndcgs_five = 0\n",
    "\n",
    "epochs=4\n",
    "for epoch in range(epochs):\n",
    "    hist = model_arc3.fit([train_click_history, train_profiles, articles_input, categories_input], labels_input, epochs=1, shuffle=True, verbose=1, batch_size=1024)\n",
    "    \n",
    "    train_loss.append(hist.history[\"loss\"])\n",
    "    train_acc.append(hist.history[\"accuracy\"])"
   ]
  },
  {
   "cell_type": "code",
   "execution_count": 85,
   "id": "656d1461",
   "metadata": {},
   "outputs": [
    {
     "name": "stderr",
     "output_type": "stream",
     "text": [
      "100it [00:05, 18.89it/s]\n"
     ]
    }
   ],
   "source": [
    "test_users = test.user_id.values\n",
    "test_items = test.article_id.values\n",
    "test_users, test_items = shuffle(test_users, test_items)\n",
    "test_users, test_items = test_users[:100], test_items[:100]\n",
    "test_set = zip(test_users, test_items)\n",
    "hits_ten,hits_five,ndcgs_ten,ndcgs_five = [], [], [], []\n",
    "for (u,i) in tqdm(test_set):\n",
    "    not_interacted_items = get_not_interacted(u)\n",
    "    users = np.array([u]*100)\n",
    "    items = np.array([i]+not_interacted_items)\n",
    "    profiles = np.tile(np.array(userid_to_profile[u]), 100).reshape(-1, 6)\n",
    "    categories = np.tile(np.array(article_to_category[i]), 100).reshape(-1,1)\n",
    "    click_history = np.tile(userid_to_click_history[u], 100).reshape(-1,10)\n",
    "\n",
    "    predictions = model_arc3.predict([click_history,profiles, items,categories])\n",
    "    predicted_labels = np.squeeze(predictions)\n",
    "    top_ten_items = [items[k] for k in np.argsort(predicted_labels)[::-1][0:10].tolist()]\n",
    "    \n",
    "    ###\n",
    "    top_ten_categories = []\n",
    "    user_profile = userid_to_profile[u]\n",
    "    for rec_item in top_ten_items:\n",
    "        top_ten_categories.append(article_to_category[rec_item])\n",
    "        \n",
    "    hits_ten.append(get_category_hit_ratio(user_profile, top_ten_categories))\n",
    "    hits_five.append(get_category_hit_ratio(user_profile, top_ten_categories[:5]))\n",
    "    ndcgs_ten.append(get_ndcgs_category(user_profile, top_ten_categories))\n",
    "    ndcgs_five.append(get_ndcgs_category(user_profile, top_ten_categories[:5]))"
   ]
  },
  {
   "cell_type": "code",
   "execution_count": 113,
   "id": "97d60b16",
   "metadata": {},
   "outputs": [
    {
     "name": "stdout",
     "output_type": "stream",
     "text": [
      "4.54\n",
      "2.44\n",
      "0.7373402188236722\n",
      "0.7245086034325083\n"
     ]
    }
   ],
   "source": [
    "print(np.average(hits_ten))\n",
    "print(np.average(hits_five))\n",
    "print(np.average(ndcgs_ten))\n",
    "print(np.average(ndcgs_five))"
   ]
  },
  {
   "cell_type": "code",
   "execution_count": null,
   "id": "09179143",
   "metadata": {},
   "outputs": [],
   "source": [
    "sns.set_style(\"darkgrid\")\n",
    "plt.plot(train_loss)\n",
    "plt.plot(val_loss)\n",
    "plt.title('Loss')\n",
    "plt.ylabel('loss')\n",
    "plt.xlabel('epoch')\n",
    "plt.legend(['Train', 'Val'], loc='upper left')\n",
    "plt.savefig(\"arc4_loss.pdf\")\n",
    "plt.show()"
   ]
  },
  {
   "cell_type": "markdown",
   "id": "c34633e1",
   "metadata": {},
   "source": [
    "# 4.5 Arch 6"
   ]
  },
  {
   "cell_type": "code",
   "execution_count": 92,
   "id": "f2ed649a",
   "metadata": {},
   "outputs": [],
   "source": [
    "#@tf.autograph.experimental.do_not_convert\n",
    "def get_model_arc6(dense_layers=[128, 64, 32, 8]):\n",
    "    #User features\n",
    "    user_history = Input(shape=(10,), name=\"user\")\n",
    "    user_profile_input = Input(shape=(6,), name=\"profile\")\n",
    "    #item features\n",
    "    item_input = Input(shape=(1,), name=\"item\")\n",
    "    item_category = Input(shape=(1,), name=\"category\")\n",
    "    \n",
    "    # User emb\n",
    "    click_history_emb = Embedding(output_dim=DIMS, \n",
    "                                  input_dim=NUM_ARTICLES, \n",
    "                                  input_length=10, \n",
    "                                  embeddings_initializer='he_normal', \n",
    "                                  embeddings_regularizer=regularizers.l2(0.001),\n",
    "                                  name=\"mf_user_emb\")(user_history)\n",
    "    profile_emb = Embedding(output_dim=DIMS, \n",
    "                            input_dim=NUM_CATEGORIES, \n",
    "                            input_length=6,\n",
    "                            embeddings_initializer='he_normal', \n",
    "                            embeddings_regularizer=regularizers.l2(0.001),\n",
    "                            name=\"mf_profile_emb\")(user_profile_input)\n",
    "    \n",
    "    # Item emb\n",
    "    item_emb = Embedding(output_dim=DIMS, \n",
    "                         input_dim=NUM_ARTICLES, \n",
    "                         input_length=1,\n",
    "                         embeddings_initializer='he_normal', \n",
    "                         embeddings_regularizer=regularizers.l2(0.001),\n",
    "                         name=\"mf_item_emb\")(item_input)\n",
    "    category_emb = Embedding(output_dim=DIMS, \n",
    "                             input_dim=NUM_CATEGORIES, \n",
    "                             input_length=1,\n",
    "                             embeddings_initializer='he_normal', \n",
    "                             embeddings_regularizer=regularizers.l2(0.001),\n",
    "                             name=\"cat_emb\")(item_category)\n",
    "    \n",
    "    \n",
    "    \n",
    "    lstm_tower_1 = profile_emb\n",
    "    lstm_tower_2 = click_history_emb\n",
    "    lstm_tower_1 = LSTM(40)(lstm_tower_1)\n",
    "    lstm_tower_1 = Dropout(0.8)(lstm_tower_1)\n",
    "    lstm_tower_1 = BatchNormalization(axis=1)(lstm_tower_1)\n",
    "    #lstm_vec = BatchNormalization(axis=1)(lstm_tower_1)\n",
    "    \n",
    "    lstm_tower_2 = LSTM(40)(lstm_tower_2)\n",
    "    lstm_tower_2 = Dropout(0.8)(lstm_tower_2)\n",
    "    lstm_tower_2 = BatchNormalization(axis=1)(lstm_tower_2)\n",
    "    lstm_vec = Concatenate(axis=1)([lstm_tower_1, lstm_tower_2])\n",
    "    \n",
    "    # MLP tower\n",
    "    item_vec = Flatten()(item_emb)\n",
    "    cat_vec = Flatten()(category_emb)\n",
    "    mlp_tower = Concatenate(axis=1)([item_vec,cat_vec])\n",
    "\n",
    "    mlp_tower = Dense(8)(mlp_tower)\n",
    "    mlp_tower = Dropout(0.5)(mlp_tower)\n",
    "    mlp_tower = BatchNormalization(axis=1)(mlp_tower)\n",
    "    \n",
    "    mlp_tower = Dense(2)(mlp_tower)\n",
    "    mlp_tower = Dropout(0.2)(mlp_tower)\n",
    "    mlp_tower = BatchNormalization(axis=1)(mlp_tower)\n",
    "    \n",
    "    \n",
    "    # Click predictor\n",
    "    final = Concatenate()([lstm_vec,mlp_tower ])\n",
    "    final = BatchNormalization(axis=1)(final)\n",
    "    y = Dense(1, activation=\"sigmoid\")(final)\n",
    "    \n",
    "    \n",
    "    model = Model(inputs=[user_history, user_profile_input, item_input, item_category], outputs=y)\n",
    "    model.compile(\n",
    "        optimizer=Adam(0.01),\n",
    "        loss=\"binary_crossentropy\",\n",
    "        metrics=[\"accuracy\"],\n",
    "    )\n",
    "    return model\n",
    "\n",
    "model_arc6 = get_model_arc6()"
   ]
  },
  {
   "cell_type": "code",
   "execution_count": 93,
   "id": "08305824",
   "metadata": {},
   "outputs": [],
   "source": [
    "users_input, articles_input, labels_input = np.array(train_users).reshape(-1,1), np.array(train_articles).reshape(-1,1), np.array(train_labels).reshape(-1,1)\n",
    "categories_input = np.array(train_categories).reshape(-1,1)"
   ]
  },
  {
   "cell_type": "code",
   "execution_count": 94,
   "id": "8e3d2297",
   "metadata": {},
   "outputs": [
    {
     "name": "stdout",
     "output_type": "stream",
     "text": [
      "18/18 [==============================] - 4s 36ms/step - loss: 0.8450 - accuracy: 0.6043\n",
      "18/18 [==============================] - 1s 36ms/step - loss: 0.4484 - accuracy: 0.8307\n",
      "18/18 [==============================] - 1s 36ms/step - loss: 0.3724 - accuracy: 0.8559\n",
      "18/18 [==============================] - 1s 35ms/step - loss: 0.3439 - accuracy: 0.8684\n"
     ]
    }
   ],
   "source": [
    "#users_input, train_profiles, articles_input, categories_input\n",
    "train_loss = []\n",
    "val_loss = []\n",
    "train_acc = []\n",
    "val_acc = []\n",
    "\n",
    "hits_list = []\n",
    "ndcg_list = []\n",
    "best_hits = 0\n",
    "best_ndcgs = 0\n",
    "best_hits_five = 0\n",
    "best_ndcgs_five = 0\n",
    "\n",
    "epochs=4\n",
    "for epoch in range(epochs):\n",
    "    hist = model_arc6.fit([train_click_history, train_profiles, articles_input, categories_input], labels_input, epochs=1, shuffle=True, verbose=1, batch_size=1024)\n",
    "    \n",
    "    train_loss.append(hist.history[\"loss\"])\n",
    "    train_acc.append(hist.history[\"accuracy\"])"
   ]
  },
  {
   "cell_type": "code",
   "execution_count": 95,
   "id": "6bb4d9e0",
   "metadata": {},
   "outputs": [
    {
     "name": "stderr",
     "output_type": "stream",
     "text": [
      "100it [00:04, 20.58it/s]\n"
     ]
    }
   ],
   "source": [
    "test_users = test.user_id.values\n",
    "test_items = test.article_id.values\n",
    "test_users, test_items = shuffle(test_users, test_items)\n",
    "test_users, test_items = test_users[:100], test_items[:100]\n",
    "test_set = zip(test_users, test_items)\n",
    "hits_ten,hits_five,ndcgs_ten,ndcgs_five = [], [], [], []\n",
    "for (u,i) in tqdm(test_set):\n",
    "    not_interacted_items = get_not_interacted(u)\n",
    "    users = np.array([u]*100)\n",
    "    items = np.array([i]+not_interacted_items)\n",
    "    profiles = np.tile(np.array(userid_to_profile[u]), 100).reshape(-1, 6)\n",
    "    categories = np.tile(np.array(article_to_category[i]), 100).reshape(-1,1)\n",
    "    click_history = np.tile(userid_to_click_history[u], 100).reshape(-1,10)\n",
    "\n",
    "    predictions = model_arc3.predict([click_history,profiles, items,categories])\n",
    "    predicted_labels = np.squeeze(predictions)\n",
    "    top_ten_items = [items[k] for k in np.argsort(predicted_labels)[::-1][0:10].tolist()]\n",
    "    \n",
    "    ###\n",
    "    top_ten_categories = []\n",
    "    user_profile = userid_to_profile[u]\n",
    "    for rec_item in top_ten_items:\n",
    "        top_ten_categories.append(article_to_category[rec_item])\n",
    "        \n",
    "    hits_ten.append(get_category_hit_ratio(user_profile, top_ten_categories))\n",
    "    hits_five.append(get_category_hit_ratio(user_profile, top_ten_categories[:5]))\n",
    "    ndcgs_ten.append(get_ndcgs_category(user_profile, top_ten_categories))\n",
    "    ndcgs_five.append(get_ndcgs_category(user_profile, top_ten_categories[:5]))"
   ]
  },
  {
   "cell_type": "code",
   "execution_count": 96,
   "id": "6b5dc3cf",
   "metadata": {},
   "outputs": [
    {
     "name": "stdout",
     "output_type": "stream",
     "text": [
      "4.31\n",
      "2.16\n",
      "0.752821051365254\n",
      "0.738572763880933\n"
     ]
    }
   ],
   "source": [
    "print(np.average(hits_ten))\n",
    "print(np.average(hits_five))\n",
    "print(np.average(ndcgs_ten))\n",
    "print(np.average(ndcgs_five))"
   ]
  },
  {
   "cell_type": "code",
   "execution_count": null,
   "id": "8e374365",
   "metadata": {},
   "outputs": [],
   "source": [
    "sns.set_style(\"darkgrid\")\n",
    "plt.plot(train_loss)\n",
    "plt.plot(val_loss)\n",
    "plt.title('Loss')\n",
    "plt.ylabel('loss')\n",
    "plt.xlabel('epoch')\n",
    "plt.legend(['Train', 'Val'], loc='upper left')\n",
    "plt.savefig(\"arc4_loss.pdf\")\n",
    "plt.show()"
   ]
  }
 ],
 "metadata": {
  "kernelspec": {
   "display_name": "Python 3",
   "language": "python",
   "name": "python3"
  },
  "language_info": {
   "codemirror_mode": {
    "name": "ipython",
    "version": 3
   },
   "file_extension": ".py",
   "mimetype": "text/x-python",
   "name": "python",
   "nbconvert_exporter": "python",
   "pygments_lexer": "ipython3",
   "version": "3.7.10"
  }
 },
 "nbformat": 4,
 "nbformat_minor": 5
}
